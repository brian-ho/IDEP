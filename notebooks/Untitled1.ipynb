{
 "cells": [
  {
   "cell_type": "code",
   "execution_count": 2,
   "metadata": {},
   "outputs": [],
   "source": [
    "from osc.theta import RicohThetaS"
   ]
  },
  {
   "cell_type": "code",
   "execution_count": 3,
   "metadata": {},
   "outputs": [
    {
     "name": "stdout",
     "output_type": "stream",
     "text": [
      "OSC Error - HTTP Status : 400\n",
      "OSC Error - Code        : unknownCommand\n",
      "OSC Error - Message     : Command executed is unknown.\n",
      "OSC Error - Name        : unknown\n",
      "OSC Error - State       : error\n"
     ]
    }
   ],
   "source": [
    "thetas=RicohThetaS()"
   ]
  },
  {
   "cell_type": "code",
   "execution_count": 5,
   "metadata": {},
   "outputs": [
    {
     "data": {
      "text/plain": [
       "{u'_apiVersion': 2,\n",
       " u'_batteryState': u'disconnect',\n",
       " u'_cameraError': [],\n",
       " u'_captureStatus': u'idle',\n",
       " u'_capturedPictures': 0,\n",
       " u'_latestFileUrl': u'',\n",
       " u'_recordableTime': 0,\n",
       " u'_recordedTime': 0,\n",
       " u'batteryLevel': 0.86,\n",
       " u'storageUri': u'http://192.168.1.1/files/150100525831424d420706509bf77400/'}"
      ]
     },
     "execution_count": 5,
     "metadata": {},
     "output_type": "execute_result"
    }
   ],
   "source": [
    "thetas.state()"
   ]
  },
  {
   "cell_type": "code",
   "execution_count": 6,
   "metadata": {},
   "outputs": [
    {
     "data": {
      "text/plain": [
       "{u'api': [u'/osc/info',\n",
       "  u'/osc/state',\n",
       "  u'/osc/checkForUpdates',\n",
       "  u'/osc/commands/execute',\n",
       "  u'/osc/commands/status'],\n",
       " u'apiLevel': [2],\n",
       " u'endpoints': {u'httpPort': 80, u'httpUpdatesPort': 80},\n",
       " u'firmwareVersion': u'2.00.2',\n",
       " u'gps': False,\n",
       " u'gyro': True,\n",
       " u'manufacturer': u'RICOH',\n",
       " u'model': u'RICOH THETA V',\n",
       " u'serialNumber': u'00131923',\n",
       " u'supportUrl': u'https://theta360.com/en/support/',\n",
       " u'uptime': 9130}"
      ]
     },
     "execution_count": 6,
     "metadata": {},
     "output_type": "execute_result"
    }
   ],
   "source": [
    "thetas.info()"
   ]
  },
  {
   "cell_type": "code",
   "execution_count": 18,
   "metadata": {},
   "outputs": [
    {
     "name": "stdout",
     "output_type": "stream",
     "text": [
      "OSC Error - HTTP Status : 400\n",
      "OSC Error - Code        : unknownCommand\n",
      "OSC Error - Message     : Command executed is unknown.\n",
      "OSC Error - Name        : unknown\n",
      "OSC Error - State       : error\n"
     ]
    }
   ],
   "source": [
    "thetas.startSession()"
   ]
  },
  {
   "cell_type": "code",
   "execution_count": 24,
   "metadata": {},
   "outputs": [
    {
     "ename": "AttributeError",
     "evalue": "RicohThetaS instance has no attribute 'setCaptureStatus'",
     "output_type": "error",
     "traceback": [
      "\u001b[0;31m---------------------------------------------------------------------------\u001b[0m",
      "\u001b[0;31mAttributeError\u001b[0m                            Traceback (most recent call last)",
      "\u001b[0;32m<ipython-input-24-9b468bc04823>\u001b[0m in \u001b[0;36m<module>\u001b[0;34m()\u001b[0m\n\u001b[0;32m----> 1\u001b[0;31m \u001b[0mthetas\u001b[0m\u001b[0;34m.\u001b[0m\u001b[0msetCaptureStatus\u001b[0m\u001b[0;34m(\u001b[0m\u001b[0;34m'image'\u001b[0m\u001b[0;34m)\u001b[0m\u001b[0;34m\u001b[0m\u001b[0m\n\u001b[0m\u001b[1;32m      2\u001b[0m \u001b[0mresponse\u001b[0m\u001b[0;34m=\u001b[0m\u001b[0mthetas\u001b[0m\u001b[0;34m.\u001b[0m\u001b[0mtakePicture\u001b[0m\u001b[0;34m(\u001b[0m\u001b[0;34m)\u001b[0m\u001b[0;34m\u001b[0m\u001b[0m\n\u001b[1;32m      3\u001b[0m \u001b[0mthetas\u001b[0m\u001b[0;34m.\u001b[0m\u001b[0mwaitForProcessing\u001b[0m\u001b[0;34m(\u001b[0m\u001b[0mresponse\u001b[0m\u001b[0;34m[\u001b[0m\u001b[0;34m'id'\u001b[0m\u001b[0;34m]\u001b[0m\u001b[0;34m)\u001b[0m\u001b[0;34m\u001b[0m\u001b[0m\n",
      "\u001b[0;31mAttributeError\u001b[0m: RicohThetaS instance has no attribute 'setCaptureStatus'"
     ]
    }
   ],
   "source": [
    "thetas.setCaptureMode('image')\n",
    "response=thetas.takePicture()\n",
    "thetas.waitForProcessing(response['id'])"
   ]
  },
  {
   "cell_type": "code",
   "execution_count": 26,
   "metadata": {},
   "outputs": [
    {
     "name": "stdout",
     "output_type": "stream",
     "text": [
      "OSC Error - HTTP Status : 400\n",
      "OSC Error - Code        : unknownCommand\n",
      "OSC Error - Message     : Command executed is unknown.\n",
      "OSC Error - Name        : unknown\n",
      "OSC Error - State       : error\n"
     ]
    }
   ],
   "source": [
    "thetas.getCaptureMode()"
   ]
  },
  {
   "cell_type": "code",
   "execution_count": 17,
   "metadata": {},
   "outputs": [
    {
     "data": {
      "text/plain": [
       "{u'_apiVersion': 2,\n",
       " u'_batteryState': u'disconnect',\n",
       " u'_cameraError': [],\n",
       " u'_captureStatus': u'idle',\n",
       " u'_capturedPictures': 0,\n",
       " u'_latestFileUrl': u'',\n",
       " u'_recordableTime': 0,\n",
       " u'_recordedTime': 0,\n",
       " u'batteryLevel': 0.85,\n",
       " u'storageUri': u'http://192.168.1.1/files/150100525831424d420706509bf77400/'}"
      ]
     },
     "execution_count": 17,
     "metadata": {},
     "output_type": "execute_result"
    }
   ],
   "source": [
    "thetas.state()"
   ]
  }
 ],
 "metadata": {
  "kernelspec": {
   "display_name": "Python [conda env:anaconda2]",
   "language": "python",
   "name": "conda-env-anaconda2-py"
  },
  "language_info": {
   "codemirror_mode": {
    "name": "ipython",
    "version": 2
   },
   "file_extension": ".py",
   "mimetype": "text/x-python",
   "name": "python",
   "nbconvert_exporter": "python",
   "pygments_lexer": "ipython2",
   "version": "2.7.12"
  }
 },
 "nbformat": 4,
 "nbformat_minor": 2
}
